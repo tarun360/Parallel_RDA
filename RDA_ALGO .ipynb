{
  "nbformat": 4,
  "nbformat_minor": 0,
  "metadata": {
    "colab": {
      "name": "RDA_ALGO.ipynb",
      "provenance": [],
      "collapsed_sections": []
    },
    "kernelspec": {
      "name": "python3",
      "display_name": "Python 3"
    },
    "language_info": {
      "name": "python"
    },
    "widgets": {
      "application/vnd.jupyter.widget-state+json": {
        "d7e5d542ec644b39b59713873cf6a11b": {
          "model_module": "@jupyter-widgets/controls",
          "model_name": "HBoxModel",
          "state": {
            "_view_name": "HBoxView",
            "_dom_classes": [],
            "_model_name": "HBoxModel",
            "_view_module": "@jupyter-widgets/controls",
            "_model_module_version": "1.5.0",
            "_view_count": null,
            "_view_module_version": "1.5.0",
            "box_style": "",
            "layout": "IPY_MODEL_63ae7a1af84140fbb49905f4a2cb1e4f",
            "_model_module": "@jupyter-widgets/controls",
            "children": [
              "IPY_MODEL_313a8d48aba6439f81c01299d88fc718",
              "IPY_MODEL_78911da9d5cd416d89da4678cdcfb225"
            ]
          }
        },
        "63ae7a1af84140fbb49905f4a2cb1e4f": {
          "model_module": "@jupyter-widgets/base",
          "model_name": "LayoutModel",
          "state": {
            "_view_name": "LayoutView",
            "grid_template_rows": null,
            "right": null,
            "justify_content": null,
            "_view_module": "@jupyter-widgets/base",
            "overflow": null,
            "_model_module_version": "1.2.0",
            "_view_count": null,
            "flex_flow": null,
            "width": null,
            "min_width": null,
            "border": null,
            "align_items": null,
            "bottom": null,
            "_model_module": "@jupyter-widgets/base",
            "top": null,
            "grid_column": null,
            "overflow_y": null,
            "overflow_x": null,
            "grid_auto_flow": null,
            "grid_area": null,
            "grid_template_columns": null,
            "flex": null,
            "_model_name": "LayoutModel",
            "justify_items": null,
            "grid_row": null,
            "max_height": null,
            "align_content": null,
            "visibility": null,
            "align_self": null,
            "height": null,
            "min_height": null,
            "padding": null,
            "grid_auto_rows": null,
            "grid_gap": null,
            "max_width": null,
            "order": null,
            "_view_module_version": "1.2.0",
            "grid_template_areas": null,
            "object_position": null,
            "object_fit": null,
            "grid_auto_columns": null,
            "margin": null,
            "display": null,
            "left": null
          }
        },
        "313a8d48aba6439f81c01299d88fc718": {
          "model_module": "@jupyter-widgets/controls",
          "model_name": "FloatProgressModel",
          "state": {
            "_view_name": "ProgressView",
            "style": "IPY_MODEL_8b0ab600544e46928b91969de610eb09",
            "_dom_classes": [],
            "description": "100%",
            "_model_name": "FloatProgressModel",
            "bar_style": "success",
            "max": 3,
            "_view_module": "@jupyter-widgets/controls",
            "_model_module_version": "1.5.0",
            "value": 3,
            "_view_count": null,
            "_view_module_version": "1.5.0",
            "orientation": "horizontal",
            "min": 0,
            "description_tooltip": null,
            "_model_module": "@jupyter-widgets/controls",
            "layout": "IPY_MODEL_095df0085831474293673dab20a15889"
          }
        },
        "78911da9d5cd416d89da4678cdcfb225": {
          "model_module": "@jupyter-widgets/controls",
          "model_name": "HTMLModel",
          "state": {
            "_view_name": "HTMLView",
            "style": "IPY_MODEL_5dd235cb80e640fb901ba5a6b7aa75f2",
            "_dom_classes": [],
            "description": "",
            "_model_name": "HTMLModel",
            "placeholder": "​",
            "_view_module": "@jupyter-widgets/controls",
            "_model_module_version": "1.5.0",
            "value": " 3/3 [00:00&lt;00:00, 36.85it/s]",
            "_view_count": null,
            "_view_module_version": "1.5.0",
            "description_tooltip": null,
            "_model_module": "@jupyter-widgets/controls",
            "layout": "IPY_MODEL_b1de83449f984a419814fd1e178224ad"
          }
        },
        "8b0ab600544e46928b91969de610eb09": {
          "model_module": "@jupyter-widgets/controls",
          "model_name": "ProgressStyleModel",
          "state": {
            "_view_name": "StyleView",
            "_model_name": "ProgressStyleModel",
            "description_width": "initial",
            "_view_module": "@jupyter-widgets/base",
            "_model_module_version": "1.5.0",
            "_view_count": null,
            "_view_module_version": "1.2.0",
            "bar_color": null,
            "_model_module": "@jupyter-widgets/controls"
          }
        },
        "095df0085831474293673dab20a15889": {
          "model_module": "@jupyter-widgets/base",
          "model_name": "LayoutModel",
          "state": {
            "_view_name": "LayoutView",
            "grid_template_rows": null,
            "right": null,
            "justify_content": null,
            "_view_module": "@jupyter-widgets/base",
            "overflow": null,
            "_model_module_version": "1.2.0",
            "_view_count": null,
            "flex_flow": null,
            "width": null,
            "min_width": null,
            "border": null,
            "align_items": null,
            "bottom": null,
            "_model_module": "@jupyter-widgets/base",
            "top": null,
            "grid_column": null,
            "overflow_y": null,
            "overflow_x": null,
            "grid_auto_flow": null,
            "grid_area": null,
            "grid_template_columns": null,
            "flex": null,
            "_model_name": "LayoutModel",
            "justify_items": null,
            "grid_row": null,
            "max_height": null,
            "align_content": null,
            "visibility": null,
            "align_self": null,
            "height": null,
            "min_height": null,
            "padding": null,
            "grid_auto_rows": null,
            "grid_gap": null,
            "max_width": null,
            "order": null,
            "_view_module_version": "1.2.0",
            "grid_template_areas": null,
            "object_position": null,
            "object_fit": null,
            "grid_auto_columns": null,
            "margin": null,
            "display": null,
            "left": null
          }
        },
        "5dd235cb80e640fb901ba5a6b7aa75f2": {
          "model_module": "@jupyter-widgets/controls",
          "model_name": "DescriptionStyleModel",
          "state": {
            "_view_name": "StyleView",
            "_model_name": "DescriptionStyleModel",
            "description_width": "",
            "_view_module": "@jupyter-widgets/base",
            "_model_module_version": "1.5.0",
            "_view_count": null,
            "_view_module_version": "1.2.0",
            "_model_module": "@jupyter-widgets/controls"
          }
        },
        "b1de83449f984a419814fd1e178224ad": {
          "model_module": "@jupyter-widgets/base",
          "model_name": "LayoutModel",
          "state": {
            "_view_name": "LayoutView",
            "grid_template_rows": null,
            "right": null,
            "justify_content": null,
            "_view_module": "@jupyter-widgets/base",
            "overflow": null,
            "_model_module_version": "1.2.0",
            "_view_count": null,
            "flex_flow": null,
            "width": null,
            "min_width": null,
            "border": null,
            "align_items": null,
            "bottom": null,
            "_model_module": "@jupyter-widgets/base",
            "top": null,
            "grid_column": null,
            "overflow_y": null,
            "overflow_x": null,
            "grid_auto_flow": null,
            "grid_area": null,
            "grid_template_columns": null,
            "flex": null,
            "_model_name": "LayoutModel",
            "justify_items": null,
            "grid_row": null,
            "max_height": null,
            "align_content": null,
            "visibility": null,
            "align_self": null,
            "height": null,
            "min_height": null,
            "padding": null,
            "grid_auto_rows": null,
            "grid_gap": null,
            "max_width": null,
            "order": null,
            "_view_module_version": "1.2.0",
            "grid_template_areas": null,
            "object_position": null,
            "object_fit": null,
            "grid_auto_columns": null,
            "margin": null,
            "display": null,
            "left": null
          }
        },
        "ac51a0954d49435a94e5cf3ed536f42b": {
          "model_module": "@jupyter-widgets/controls",
          "model_name": "HBoxModel",
          "state": {
            "_view_name": "HBoxView",
            "_dom_classes": [],
            "_model_name": "HBoxModel",
            "_view_module": "@jupyter-widgets/controls",
            "_model_module_version": "1.5.0",
            "_view_count": null,
            "_view_module_version": "1.5.0",
            "box_style": "",
            "layout": "IPY_MODEL_f6cde4c5894d4bca816678b461b31bf9",
            "_model_module": "@jupyter-widgets/controls",
            "children": [
              "IPY_MODEL_32017e1fe79041e68a8c4baf3d68d285",
              "IPY_MODEL_db68d5a9d566406abe03d1f56a1d6ced"
            ]
          }
        },
        "f6cde4c5894d4bca816678b461b31bf9": {
          "model_module": "@jupyter-widgets/base",
          "model_name": "LayoutModel",
          "state": {
            "_view_name": "LayoutView",
            "grid_template_rows": null,
            "right": null,
            "justify_content": null,
            "_view_module": "@jupyter-widgets/base",
            "overflow": null,
            "_model_module_version": "1.2.0",
            "_view_count": null,
            "flex_flow": null,
            "width": null,
            "min_width": null,
            "border": null,
            "align_items": null,
            "bottom": null,
            "_model_module": "@jupyter-widgets/base",
            "top": null,
            "grid_column": null,
            "overflow_y": null,
            "overflow_x": null,
            "grid_auto_flow": null,
            "grid_area": null,
            "grid_template_columns": null,
            "flex": null,
            "_model_name": "LayoutModel",
            "justify_items": null,
            "grid_row": null,
            "max_height": null,
            "align_content": null,
            "visibility": null,
            "align_self": null,
            "height": null,
            "min_height": null,
            "padding": null,
            "grid_auto_rows": null,
            "grid_gap": null,
            "max_width": null,
            "order": null,
            "_view_module_version": "1.2.0",
            "grid_template_areas": null,
            "object_position": null,
            "object_fit": null,
            "grid_auto_columns": null,
            "margin": null,
            "display": null,
            "left": null
          }
        },
        "32017e1fe79041e68a8c4baf3d68d285": {
          "model_module": "@jupyter-widgets/controls",
          "model_name": "FloatProgressModel",
          "state": {
            "_view_name": "ProgressView",
            "style": "IPY_MODEL_4895335104374602b85fd63e85e293c8",
            "_dom_classes": [],
            "description": "100%",
            "_model_name": "FloatProgressModel",
            "bar_style": "success",
            "max": 20,
            "_view_module": "@jupyter-widgets/controls",
            "_model_module_version": "1.5.0",
            "value": 20,
            "_view_count": null,
            "_view_module_version": "1.5.0",
            "orientation": "horizontal",
            "min": 0,
            "description_tooltip": null,
            "_model_module": "@jupyter-widgets/controls",
            "layout": "IPY_MODEL_9218ef5ec5dd4f1b939d21e10ab55de8"
          }
        },
        "db68d5a9d566406abe03d1f56a1d6ced": {
          "model_module": "@jupyter-widgets/controls",
          "model_name": "HTMLModel",
          "state": {
            "_view_name": "HTMLView",
            "style": "IPY_MODEL_73165f1e2263486f89125208f760aab4",
            "_dom_classes": [],
            "description": "",
            "_model_name": "HTMLModel",
            "placeholder": "​",
            "_view_module": "@jupyter-widgets/controls",
            "_model_module_version": "1.5.0",
            "value": " 20/20 [00:37&lt;00:00,  1.88s/it]",
            "_view_count": null,
            "_view_module_version": "1.5.0",
            "description_tooltip": null,
            "_model_module": "@jupyter-widgets/controls",
            "layout": "IPY_MODEL_275ff0fff0cc4977ab5c090026a7fb6d"
          }
        },
        "4895335104374602b85fd63e85e293c8": {
          "model_module": "@jupyter-widgets/controls",
          "model_name": "ProgressStyleModel",
          "state": {
            "_view_name": "StyleView",
            "_model_name": "ProgressStyleModel",
            "description_width": "initial",
            "_view_module": "@jupyter-widgets/base",
            "_model_module_version": "1.5.0",
            "_view_count": null,
            "_view_module_version": "1.2.0",
            "bar_color": null,
            "_model_module": "@jupyter-widgets/controls"
          }
        },
        "9218ef5ec5dd4f1b939d21e10ab55de8": {
          "model_module": "@jupyter-widgets/base",
          "model_name": "LayoutModel",
          "state": {
            "_view_name": "LayoutView",
            "grid_template_rows": null,
            "right": null,
            "justify_content": null,
            "_view_module": "@jupyter-widgets/base",
            "overflow": null,
            "_model_module_version": "1.2.0",
            "_view_count": null,
            "flex_flow": null,
            "width": null,
            "min_width": null,
            "border": null,
            "align_items": null,
            "bottom": null,
            "_model_module": "@jupyter-widgets/base",
            "top": null,
            "grid_column": null,
            "overflow_y": null,
            "overflow_x": null,
            "grid_auto_flow": null,
            "grid_area": null,
            "grid_template_columns": null,
            "flex": null,
            "_model_name": "LayoutModel",
            "justify_items": null,
            "grid_row": null,
            "max_height": null,
            "align_content": null,
            "visibility": null,
            "align_self": null,
            "height": null,
            "min_height": null,
            "padding": null,
            "grid_auto_rows": null,
            "grid_gap": null,
            "max_width": null,
            "order": null,
            "_view_module_version": "1.2.0",
            "grid_template_areas": null,
            "object_position": null,
            "object_fit": null,
            "grid_auto_columns": null,
            "margin": null,
            "display": null,
            "left": null
          }
        },
        "73165f1e2263486f89125208f760aab4": {
          "model_module": "@jupyter-widgets/controls",
          "model_name": "DescriptionStyleModel",
          "state": {
            "_view_name": "StyleView",
            "_model_name": "DescriptionStyleModel",
            "description_width": "",
            "_view_module": "@jupyter-widgets/base",
            "_model_module_version": "1.5.0",
            "_view_count": null,
            "_view_module_version": "1.2.0",
            "_model_module": "@jupyter-widgets/controls"
          }
        },
        "275ff0fff0cc4977ab5c090026a7fb6d": {
          "model_module": "@jupyter-widgets/base",
          "model_name": "LayoutModel",
          "state": {
            "_view_name": "LayoutView",
            "grid_template_rows": null,
            "right": null,
            "justify_content": null,
            "_view_module": "@jupyter-widgets/base",
            "overflow": null,
            "_model_module_version": "1.2.0",
            "_view_count": null,
            "flex_flow": null,
            "width": null,
            "min_width": null,
            "border": null,
            "align_items": null,
            "bottom": null,
            "_model_module": "@jupyter-widgets/base",
            "top": null,
            "grid_column": null,
            "overflow_y": null,
            "overflow_x": null,
            "grid_auto_flow": null,
            "grid_area": null,
            "grid_template_columns": null,
            "flex": null,
            "_model_name": "LayoutModel",
            "justify_items": null,
            "grid_row": null,
            "max_height": null,
            "align_content": null,
            "visibility": null,
            "align_self": null,
            "height": null,
            "min_height": null,
            "padding": null,
            "grid_auto_rows": null,
            "grid_gap": null,
            "max_width": null,
            "order": null,
            "_view_module_version": "1.2.0",
            "grid_template_areas": null,
            "object_position": null,
            "object_fit": null,
            "grid_auto_columns": null,
            "margin": null,
            "display": null,
            "left": null
          }
        },
        "1ca35e281eec472082c0825febd29dbf": {
          "model_module": "@jupyter-widgets/controls",
          "model_name": "HBoxModel",
          "state": {
            "_view_name": "HBoxView",
            "_dom_classes": [],
            "_model_name": "HBoxModel",
            "_view_module": "@jupyter-widgets/controls",
            "_model_module_version": "1.5.0",
            "_view_count": null,
            "_view_module_version": "1.5.0",
            "box_style": "",
            "layout": "IPY_MODEL_25e81a287e4b4573b2ca5729525fcd5a",
            "_model_module": "@jupyter-widgets/controls",
            "children": [
              "IPY_MODEL_136d27b2a61148f7808af169c552857d",
              "IPY_MODEL_3d9eaff699d442b5a9004518dad4d40e"
            ]
          }
        },
        "25e81a287e4b4573b2ca5729525fcd5a": {
          "model_module": "@jupyter-widgets/base",
          "model_name": "LayoutModel",
          "state": {
            "_view_name": "LayoutView",
            "grid_template_rows": null,
            "right": null,
            "justify_content": null,
            "_view_module": "@jupyter-widgets/base",
            "overflow": null,
            "_model_module_version": "1.2.0",
            "_view_count": null,
            "flex_flow": null,
            "width": null,
            "min_width": null,
            "border": null,
            "align_items": null,
            "bottom": null,
            "_model_module": "@jupyter-widgets/base",
            "top": null,
            "grid_column": null,
            "overflow_y": null,
            "overflow_x": null,
            "grid_auto_flow": null,
            "grid_area": null,
            "grid_template_columns": null,
            "flex": null,
            "_model_name": "LayoutModel",
            "justify_items": null,
            "grid_row": null,
            "max_height": null,
            "align_content": null,
            "visibility": null,
            "align_self": null,
            "height": null,
            "min_height": null,
            "padding": null,
            "grid_auto_rows": null,
            "grid_gap": null,
            "max_width": null,
            "order": null,
            "_view_module_version": "1.2.0",
            "grid_template_areas": null,
            "object_position": null,
            "object_fit": null,
            "grid_auto_columns": null,
            "margin": null,
            "display": null,
            "left": null
          }
        },
        "136d27b2a61148f7808af169c552857d": {
          "model_module": "@jupyter-widgets/controls",
          "model_name": "FloatProgressModel",
          "state": {
            "_view_name": "ProgressView",
            "style": "IPY_MODEL_d02f1349e6a44554bf8d2426135fdc28",
            "_dom_classes": [],
            "description": "100%",
            "_model_name": "FloatProgressModel",
            "bar_style": "success",
            "max": 20,
            "_view_module": "@jupyter-widgets/controls",
            "_model_module_version": "1.5.0",
            "value": 20,
            "_view_count": null,
            "_view_module_version": "1.5.0",
            "orientation": "horizontal",
            "min": 0,
            "description_tooltip": null,
            "_model_module": "@jupyter-widgets/controls",
            "layout": "IPY_MODEL_182b2629cbec44dd8569eb378be35ce2"
          }
        },
        "3d9eaff699d442b5a9004518dad4d40e": {
          "model_module": "@jupyter-widgets/controls",
          "model_name": "HTMLModel",
          "state": {
            "_view_name": "HTMLView",
            "style": "IPY_MODEL_cf8f6102f662488bbae9f345bf9c18d9",
            "_dom_classes": [],
            "description": "",
            "_model_name": "HTMLModel",
            "placeholder": "​",
            "_view_module": "@jupyter-widgets/controls",
            "_model_module_version": "1.5.0",
            "value": " 20/20 [00:29&lt;00:00,  1.49s/it]",
            "_view_count": null,
            "_view_module_version": "1.5.0",
            "description_tooltip": null,
            "_model_module": "@jupyter-widgets/controls",
            "layout": "IPY_MODEL_132af1442d3a4157893286a3a7590c50"
          }
        },
        "d02f1349e6a44554bf8d2426135fdc28": {
          "model_module": "@jupyter-widgets/controls",
          "model_name": "ProgressStyleModel",
          "state": {
            "_view_name": "StyleView",
            "_model_name": "ProgressStyleModel",
            "description_width": "initial",
            "_view_module": "@jupyter-widgets/base",
            "_model_module_version": "1.5.0",
            "_view_count": null,
            "_view_module_version": "1.2.0",
            "bar_color": null,
            "_model_module": "@jupyter-widgets/controls"
          }
        },
        "182b2629cbec44dd8569eb378be35ce2": {
          "model_module": "@jupyter-widgets/base",
          "model_name": "LayoutModel",
          "state": {
            "_view_name": "LayoutView",
            "grid_template_rows": null,
            "right": null,
            "justify_content": null,
            "_view_module": "@jupyter-widgets/base",
            "overflow": null,
            "_model_module_version": "1.2.0",
            "_view_count": null,
            "flex_flow": null,
            "width": null,
            "min_width": null,
            "border": null,
            "align_items": null,
            "bottom": null,
            "_model_module": "@jupyter-widgets/base",
            "top": null,
            "grid_column": null,
            "overflow_y": null,
            "overflow_x": null,
            "grid_auto_flow": null,
            "grid_area": null,
            "grid_template_columns": null,
            "flex": null,
            "_model_name": "LayoutModel",
            "justify_items": null,
            "grid_row": null,
            "max_height": null,
            "align_content": null,
            "visibility": null,
            "align_self": null,
            "height": null,
            "min_height": null,
            "padding": null,
            "grid_auto_rows": null,
            "grid_gap": null,
            "max_width": null,
            "order": null,
            "_view_module_version": "1.2.0",
            "grid_template_areas": null,
            "object_position": null,
            "object_fit": null,
            "grid_auto_columns": null,
            "margin": null,
            "display": null,
            "left": null
          }
        },
        "cf8f6102f662488bbae9f345bf9c18d9": {
          "model_module": "@jupyter-widgets/controls",
          "model_name": "DescriptionStyleModel",
          "state": {
            "_view_name": "StyleView",
            "_model_name": "DescriptionStyleModel",
            "description_width": "",
            "_view_module": "@jupyter-widgets/base",
            "_model_module_version": "1.5.0",
            "_view_count": null,
            "_view_module_version": "1.2.0",
            "_model_module": "@jupyter-widgets/controls"
          }
        },
        "132af1442d3a4157893286a3a7590c50": {
          "model_module": "@jupyter-widgets/base",
          "model_name": "LayoutModel",
          "state": {
            "_view_name": "LayoutView",
            "grid_template_rows": null,
            "right": null,
            "justify_content": null,
            "_view_module": "@jupyter-widgets/base",
            "overflow": null,
            "_model_module_version": "1.2.0",
            "_view_count": null,
            "flex_flow": null,
            "width": null,
            "min_width": null,
            "border": null,
            "align_items": null,
            "bottom": null,
            "_model_module": "@jupyter-widgets/base",
            "top": null,
            "grid_column": null,
            "overflow_y": null,
            "overflow_x": null,
            "grid_auto_flow": null,
            "grid_area": null,
            "grid_template_columns": null,
            "flex": null,
            "_model_name": "LayoutModel",
            "justify_items": null,
            "grid_row": null,
            "max_height": null,
            "align_content": null,
            "visibility": null,
            "align_self": null,
            "height": null,
            "min_height": null,
            "padding": null,
            "grid_auto_rows": null,
            "grid_gap": null,
            "max_width": null,
            "order": null,
            "_view_module_version": "1.2.0",
            "grid_template_areas": null,
            "object_position": null,
            "object_fit": null,
            "grid_auto_columns": null,
            "margin": null,
            "display": null,
            "left": null
          }
        },
        "56640237b7c042c4b77bb77c47933473": {
          "model_module": "@jupyter-widgets/controls",
          "model_name": "HBoxModel",
          "state": {
            "_view_name": "HBoxView",
            "_dom_classes": [],
            "_model_name": "HBoxModel",
            "_view_module": "@jupyter-widgets/controls",
            "_model_module_version": "1.5.0",
            "_view_count": null,
            "_view_module_version": "1.5.0",
            "box_style": "",
            "layout": "IPY_MODEL_e0874f6a7cb44413b7a83c2d0675ab74",
            "_model_module": "@jupyter-widgets/controls",
            "children": [
              "IPY_MODEL_6f43a5f3fa12431283650f9f8f193e16",
              "IPY_MODEL_a180bb3d8f0c4ba9846a5ae29b68194f"
            ]
          }
        },
        "e0874f6a7cb44413b7a83c2d0675ab74": {
          "model_module": "@jupyter-widgets/base",
          "model_name": "LayoutModel",
          "state": {
            "_view_name": "LayoutView",
            "grid_template_rows": null,
            "right": null,
            "justify_content": null,
            "_view_module": "@jupyter-widgets/base",
            "overflow": null,
            "_model_module_version": "1.2.0",
            "_view_count": null,
            "flex_flow": null,
            "width": null,
            "min_width": null,
            "border": null,
            "align_items": null,
            "bottom": null,
            "_model_module": "@jupyter-widgets/base",
            "top": null,
            "grid_column": null,
            "overflow_y": null,
            "overflow_x": null,
            "grid_auto_flow": null,
            "grid_area": null,
            "grid_template_columns": null,
            "flex": null,
            "_model_name": "LayoutModel",
            "justify_items": null,
            "grid_row": null,
            "max_height": null,
            "align_content": null,
            "visibility": null,
            "align_self": null,
            "height": null,
            "min_height": null,
            "padding": null,
            "grid_auto_rows": null,
            "grid_gap": null,
            "max_width": null,
            "order": null,
            "_view_module_version": "1.2.0",
            "grid_template_areas": null,
            "object_position": null,
            "object_fit": null,
            "grid_auto_columns": null,
            "margin": null,
            "display": null,
            "left": null
          }
        },
        "6f43a5f3fa12431283650f9f8f193e16": {
          "model_module": "@jupyter-widgets/controls",
          "model_name": "FloatProgressModel",
          "state": {
            "_view_name": "ProgressView",
            "style": "IPY_MODEL_a370442fd9664cda958db21440ef3307",
            "_dom_classes": [],
            "description": "100%",
            "_model_name": "FloatProgressModel",
            "bar_style": "success",
            "max": 20,
            "_view_module": "@jupyter-widgets/controls",
            "_model_module_version": "1.5.0",
            "value": 20,
            "_view_count": null,
            "_view_module_version": "1.5.0",
            "orientation": "horizontal",
            "min": 0,
            "description_tooltip": null,
            "_model_module": "@jupyter-widgets/controls",
            "layout": "IPY_MODEL_af2966bea84c4af1b127233ed053b9bb"
          }
        },
        "a180bb3d8f0c4ba9846a5ae29b68194f": {
          "model_module": "@jupyter-widgets/controls",
          "model_name": "HTMLModel",
          "state": {
            "_view_name": "HTMLView",
            "style": "IPY_MODEL_6722c799252d46fcb9448b96e397638a",
            "_dom_classes": [],
            "description": "",
            "_model_name": "HTMLModel",
            "placeholder": "​",
            "_view_module": "@jupyter-widgets/controls",
            "_model_module_version": "1.5.0",
            "value": " 20/20 [01:10&lt;00:00,  3.54s/it]",
            "_view_count": null,
            "_view_module_version": "1.5.0",
            "description_tooltip": null,
            "_model_module": "@jupyter-widgets/controls",
            "layout": "IPY_MODEL_a89ef8ad1cf448f89aa7dfbc25f14e4c"
          }
        },
        "a370442fd9664cda958db21440ef3307": {
          "model_module": "@jupyter-widgets/controls",
          "model_name": "ProgressStyleModel",
          "state": {
            "_view_name": "StyleView",
            "_model_name": "ProgressStyleModel",
            "description_width": "initial",
            "_view_module": "@jupyter-widgets/base",
            "_model_module_version": "1.5.0",
            "_view_count": null,
            "_view_module_version": "1.2.0",
            "bar_color": null,
            "_model_module": "@jupyter-widgets/controls"
          }
        },
        "af2966bea84c4af1b127233ed053b9bb": {
          "model_module": "@jupyter-widgets/base",
          "model_name": "LayoutModel",
          "state": {
            "_view_name": "LayoutView",
            "grid_template_rows": null,
            "right": null,
            "justify_content": null,
            "_view_module": "@jupyter-widgets/base",
            "overflow": null,
            "_model_module_version": "1.2.0",
            "_view_count": null,
            "flex_flow": null,
            "width": null,
            "min_width": null,
            "border": null,
            "align_items": null,
            "bottom": null,
            "_model_module": "@jupyter-widgets/base",
            "top": null,
            "grid_column": null,
            "overflow_y": null,
            "overflow_x": null,
            "grid_auto_flow": null,
            "grid_area": null,
            "grid_template_columns": null,
            "flex": null,
            "_model_name": "LayoutModel",
            "justify_items": null,
            "grid_row": null,
            "max_height": null,
            "align_content": null,
            "visibility": null,
            "align_self": null,
            "height": null,
            "min_height": null,
            "padding": null,
            "grid_auto_rows": null,
            "grid_gap": null,
            "max_width": null,
            "order": null,
            "_view_module_version": "1.2.0",
            "grid_template_areas": null,
            "object_position": null,
            "object_fit": null,
            "grid_auto_columns": null,
            "margin": null,
            "display": null,
            "left": null
          }
        },
        "6722c799252d46fcb9448b96e397638a": {
          "model_module": "@jupyter-widgets/controls",
          "model_name": "DescriptionStyleModel",
          "state": {
            "_view_name": "StyleView",
            "_model_name": "DescriptionStyleModel",
            "description_width": "",
            "_view_module": "@jupyter-widgets/base",
            "_model_module_version": "1.5.0",
            "_view_count": null,
            "_view_module_version": "1.2.0",
            "_model_module": "@jupyter-widgets/controls"
          }
        },
        "a89ef8ad1cf448f89aa7dfbc25f14e4c": {
          "model_module": "@jupyter-widgets/base",
          "model_name": "LayoutModel",
          "state": {
            "_view_name": "LayoutView",
            "grid_template_rows": null,
            "right": null,
            "justify_content": null,
            "_view_module": "@jupyter-widgets/base",
            "overflow": null,
            "_model_module_version": "1.2.0",
            "_view_count": null,
            "flex_flow": null,
            "width": null,
            "min_width": null,
            "border": null,
            "align_items": null,
            "bottom": null,
            "_model_module": "@jupyter-widgets/base",
            "top": null,
            "grid_column": null,
            "overflow_y": null,
            "overflow_x": null,
            "grid_auto_flow": null,
            "grid_area": null,
            "grid_template_columns": null,
            "flex": null,
            "_model_name": "LayoutModel",
            "justify_items": null,
            "grid_row": null,
            "max_height": null,
            "align_content": null,
            "visibility": null,
            "align_self": null,
            "height": null,
            "min_height": null,
            "padding": null,
            "grid_auto_rows": null,
            "grid_gap": null,
            "max_width": null,
            "order": null,
            "_view_module_version": "1.2.0",
            "grid_template_areas": null,
            "object_position": null,
            "object_fit": null,
            "grid_auto_columns": null,
            "margin": null,
            "display": null,
            "left": null
          }
        }
      }
    }
  },
  "cells": [
    {
      "cell_type": "code",
      "metadata": {
        "id": "5ZCPrAhF_KpY"
      },
      "source": [
        "import numpy as np\n",
        "import time\n",
        "import matplotlib.pyplot as plt\n",
        "import random, math\n",
        "import sys\n",
        "from tqdm.notebook import tqdm"
      ],
      "execution_count": 2,
      "outputs": []
    },
    {
      "cell_type": "code",
      "metadata": {
        "id": "mAcOdwy2_hi0"
      },
      "source": [
        "class Solution():    \n",
        "    #structure of the solution \n",
        "    def __init__(self):\n",
        "        self.N_vetices = None\n",
        "        self.num_agents = None\n",
        "        self.max_iter = None\n",
        "        self.obj_function = None\n",
        "        self.execution_time = None\n",
        "        self.convergence_curve = {}\n",
        "        self.best_agent = None\n",
        "        self.best_fitness = None\n",
        "        self.best_cost = None\n",
        "        self.final_population = None\n",
        "        self.final_fitness = None\n",
        "        self.final_cost = None\n",
        "\n",
        "def initialize(num_agents, N_vertices):\n",
        "\n",
        "    agents = np.zeros((num_agents,N_vertices))\n",
        "\n",
        "    for agent_no in range(num_agents):\n",
        "      agents[agent_no] = np.random.choice([0, 1], size=N_vertices, p=[.5, .5])\n",
        "      \n",
        "    return agents\n",
        "\n",
        "\n",
        "def sort_agents(agents, obj_function, graph):\n",
        "\n",
        "    # if there is only one agent\n",
        "    if len(agents.shape) == 1:\n",
        "        num_agents = 1\n",
        "        fitness = obj_function(agents, graph)\n",
        "        return agents, fitness\n",
        "\n",
        "    # for multiple agents\n",
        "    else:\n",
        "        num_agents = agents.shape[0]\n",
        "        fitness = np.zeros(num_agents)\n",
        "        for id, agent in enumerate(agents):\n",
        "            fitness[id] = obj_function(agent, graph)\n",
        "        idx = np.argsort(-fitness)\n",
        "        sorted_agents = agents[idx].copy()\n",
        "        sorted_fitness = fitness[idx].copy()\n",
        "\n",
        "    return sorted_agents, sorted_fitness\n",
        "\n",
        "def cycle_cost(agent, graph):\n",
        "  encoding = np.argsort(np.argsort(agent)) #gives sorted rank of each element, eg: [0.2, 0.5, 0.1, 0.9] -> [1 2 0 3]\n",
        "  cycle = np.append(encoding,encoding[0])\n",
        "  cost = 0\n",
        "  for i in range(0, len(cycle)-1):\n",
        "    cost = cost + graph[cycle[i]][cycle[i+1]]\n",
        "  return -cost\n",
        "\n",
        "def display(agents, fitness, agent_name='Agent'):\n",
        "    # display the population\n",
        "    print('\\nNumber of agents: {}'.format(agents.shape[0]))\n",
        "    print('\\n------------- Best Agent ---------------')\n",
        "    print('Fitness: {}'.format(fitness[0]))\n",
        "    print('----------------------------------------\\n')\n",
        "\n",
        "    for id, agent in enumerate(agents):\n",
        "        print('{} {} - Fitness: {}'.format(agent_name, id+1, fitness[id]))\n",
        "\n",
        "    print('================================================================================\\n')\n"
      ],
      "execution_count": 22,
      "outputs": []
    },
    {
      "cell_type": "code",
      "metadata": {
        "id": "YXuPw1FO-_EB"
      },
      "source": [
        "def RDA(num_agents, max_iter, graph, N_vertices, obj_function, save_conv_graph, alpha, beta, gamma, num_males_frac, UB, LB):\n",
        "\n",
        "    # Red Deer Algorithm\n",
        "    ############################### Parameters ####################################\n",
        "    #                                                                             #\n",
        "    #   num_agents: number of red deers                                           #\n",
        "    #   max_iter: maximum number of generations                                   #      \n",
        "    #   obj_function: the function to maximize while doing feature selection      #\n",
        "    #   trans_function_shape: shape of the transfer function used                 #\n",
        "    #   save_conv_graph: boolean value for saving convergence graph               #\n",
        "    #                                                                             #\n",
        "    ###############################################################################\n",
        "    \n",
        "    # Number of agents must be at least 8\n",
        "    if num_agents < 8:\n",
        "        print(\"[Error!] The value of the parameter num_agents must be at least 8\", file=sys.stderr)\n",
        "        sys.exit(1)\n",
        "        \n",
        "    short_name = 'RDA'\n",
        "    agent_name = 'RedDeer'\n",
        "    \n",
        "    \n",
        "    # initialize red deers and Leader (the agent with the max fitness)\n",
        "    deer = initialize(num_agents, N_vertices)\n",
        "    fitness = np.zeros(num_agents)\n",
        "    cost = np.zeros(num_agents)\n",
        "    Leader_agent = np.zeros((1, N_vertices))\n",
        "    Leader_fitness = float(\"-inf\")\n",
        "    Leader_cost = float(\"-inf\")\n",
        "\n",
        "    # initialize convergence curves\n",
        "    convergence_curve = {}\n",
        "    convergence_curve['fitness'] = np.zeros(max_iter)\n",
        "    convergence_curve['feature_count'] = np.zeros(max_iter)\n",
        "\n",
        "    # create a solution object\n",
        "    solution = Solution()\n",
        "    solution.num_agents = num_agents\n",
        "    solution.max_iter = max_iter\n",
        "    solution.N_vertices = N_vertices\n",
        "    solution.obj_function = obj_function\n",
        "    \n",
        "    # initializing parameters\n",
        "    # UB = 5 # Upper bound\n",
        "    # LB = -5 # Lower bound\n",
        "    # gamma = 0.7 # Fraction of total number of males who are chosen as commanders\n",
        "    # alpha = 0.9 # Fraction of total number of hinds in a harem who mate with the commander of their harem\n",
        "    # beta = 0.4 # Fraction of total number of hinds in a harem who mate with the commander of a different harem\n",
        "\n",
        "    # start timer\n",
        "    start_time = time.time()\n",
        "\n",
        "    # main loop\n",
        "    for iter_no in tqdm(range(max_iter)):\n",
        "        # print('\\n================================================================================')\n",
        "        # print('                          Iteration - {}'.format(iter_no+1))\n",
        "        # print('================================================================================\\n')\n",
        "        deer, fitness = sort_agents(deer, obj_function, graph)\n",
        "        num_males = int(num_males_frac * num_agents)\n",
        "        num_hinds = num_agents - num_males\n",
        "        males = deer[:num_males,:]\n",
        "        hinds = deer[num_males:,:]\n",
        "        \n",
        "        # roaring of male deer\n",
        "        for i in range(num_males):\n",
        "            r1 = np.random.random() # r1 is a random number in [0, 1]\n",
        "            r2 = np.random.random() # r2 is a random number in [0, 1]\n",
        "            r3 = np.random.random() # r3 is a random number in [0, 1]\n",
        "            new_male = males[i].copy()\n",
        "            if r3 >= 0.5:                                    # Eq. (3)\n",
        "                new_male += r1 * (((UB - LB) * r2) + LB)\n",
        "            else:\n",
        "                new_male -= r1 * (((UB - LB) * r2) + LB)\n",
        "                    \n",
        "            if obj_function(new_male, graph) < obj_function(males[i], graph):\n",
        "                males[i] = new_male\n",
        "        \n",
        "        \n",
        "        # selection of male commanders and stags\n",
        "        num_coms = int(num_males * gamma) # Eq. (4)\n",
        "        num_stags = num_males - num_coms # Eq. (5)\n",
        "\n",
        "        coms = males[:num_coms,:]\n",
        "        stags = males[num_coms:,:]\n",
        "        \n",
        "        # fight between male commanders and stags       \n",
        "        for i in range(num_coms):\n",
        "            chosen_com = coms[i].copy()\n",
        "            chosen_stag = random.choice(stags)\n",
        "            r1 = np.random.random()\n",
        "            r2 = np.random.random()\n",
        "            new_male_1 = (chosen_com + chosen_stag) / 2 + r1 * (((UB - LB) * r2) + LB) # Eq. (6)\n",
        "            new_male_2 = (chosen_com + chosen_stag) / 2 - r1 * (((UB - LB) * r2) + LB) # Eq. (7)\n",
        "                    \n",
        "            fitness = np.zeros(4)\n",
        "            fitness[0] = obj_function(chosen_com, graph)\n",
        "            fitness[1] = obj_function(chosen_stag, graph)\n",
        "            fitness[2] = obj_function(new_male_1, graph)\n",
        "            fitness[3] = obj_function(new_male_2, graph)\n",
        "            \n",
        "            bestfit = np.max(fitness)\n",
        "            if fitness[0] < fitness[1] and fitness[1] == bestfit:\n",
        "                coms[i] = chosen_stag.copy()\n",
        "            elif fitness[0] < fitness[2] and fitness[2] == bestfit:\n",
        "                coms[i] = new_male_1.copy()\n",
        "            elif fitness[0] < fitness[3] and fitness[3] == bestfit:\n",
        "                coms[i] = new_male_2.copy()\n",
        "\n",
        "        # formation of harems\n",
        "        coms, fitness = sort_agents(coms, obj_function, graph)\n",
        "        norm = np.linalg.norm(fitness)\n",
        "        normal_fit = fitness / norm\n",
        "        total = np.sum(normal_fit)\n",
        "        power = normal_fit / total # Eq. (9)\n",
        "        num_harems = [int(x * num_hinds) for x in power] # Eq.(10)\n",
        "        max_harem_size = np.max(num_harems)\n",
        "        harem = np.empty(shape=(num_coms, max_harem_size, N_vertices))\n",
        "        random.shuffle(hinds)\n",
        "        itr = 0\n",
        "        for i in range(num_coms):\n",
        "            harem_size = num_harems[i]\n",
        "            for j in range(harem_size):\n",
        "                harem[i][j] = hinds[itr]\n",
        "                itr += 1\n",
        "        \n",
        "        # mating of commander with hinds in his harem\n",
        "        num_harem_mate = [int(x * alpha) for x in num_harems] # Eq. (11)\n",
        "        population_pool = list(deer)\n",
        "        for i in range(num_coms):\n",
        "            random.shuffle(harem[i])\n",
        "            for j in range(num_harem_mate[i]):\n",
        "                r = np.random.random() # r is a random number in [0, 1]\n",
        "                offspring = (coms[i] + harem[i][j]) / 2 + (UB - LB) * r # Eq. (12)\n",
        "                \n",
        "                population_pool.append(list(offspring))\n",
        "                \n",
        "                # if number of commanders is greater than 1, inter-harem mating takes place\n",
        "                if num_coms > 1:\n",
        "                    # mating of commander with hinds in another harem\n",
        "                    k = i \n",
        "                    while k == i:\n",
        "                        k = random.choice(range(num_coms))\n",
        "\n",
        "                    num_mate = int(num_harems[k] * beta) # Eq. (13)\n",
        "\n",
        "                    np.random.shuffle(harem[k])\n",
        "                    for j in range(num_mate):\n",
        "                        r = np.random.random() # r is a random number in [0, 1]\n",
        "                        offspring = (coms[i] + harem[k][j]) / 2 + (UB - LB) * r \n",
        "                        population_pool.append(list(offspring))\n",
        "        \n",
        "        # mating of stag with nearest hind\n",
        "        for stag in stags:\n",
        "            dist = np.zeros(num_hinds)\n",
        "            for i in range(num_hinds):\n",
        "                dist[i] = math.sqrt(np.sum((stag-hinds[i])*(stag-hinds[i])))\n",
        "            min_dist = np.min(dist)\n",
        "            for i in range(num_hinds):\n",
        "                distance = math.sqrt(np.sum((stag-hinds[i])*(stag-hinds[i]))) # Eq. (14)\n",
        "                if(distance == min_dist):\n",
        "                    r = np.random.random() # r is a random number in [0, 1]\n",
        "                    offspring = (stag + hinds[i])/2 + (UB - LB) * r\n",
        "                    population_pool.append(list(offspring))\n",
        "                    \n",
        "                    break\n",
        "        \n",
        "        # selection of the next generation\n",
        "        population_pool = np.array(population_pool)            \n",
        "        population_pool, fitness = sort_agents(population_pool, obj_function, graph)\n",
        "        maximum = sum([f for f in fitness])\n",
        "        selection_probs = [f/maximum for f in fitness]\n",
        "        indices = np.random.choice(len(population_pool), size=num_agents, replace=True, p=selection_probs)          \n",
        "        deer = population_pool[indices]\n",
        "        \n",
        "        # update final information\n",
        "        deer, fitness = sort_agents(deer, obj_function, graph)\n",
        "        #display(deer, fitness, agent_name)\n",
        "        if fitness[0] > Leader_fitness:\n",
        "            Leader_agent = deer[0].copy()\n",
        "            Leader_fitness = fitness[0].copy()\n",
        "        convergence_curve['fitness'][iter_no] = Leader_fitness\n",
        "        convergence_curve['feature_count'][iter_no] = int(np.sum(Leader_agent))\n",
        "\n",
        "    # compute final cost\n",
        "    Leader_agent, Leader_cost = sort_agents(Leader_agent, obj_function, graph)\n",
        "    deer, cost = sort_agents(deer, obj_function, graph)\n",
        "\n",
        "    print('\\n================================================================================')\n",
        "    print('                                    Final Result                                  ')\n",
        "    print('================================================================================\\n')\n",
        "    print('Leader ' + agent_name + ' Fitness : {}'.format(Leader_fitness))\n",
        "    print('Leader ' + agent_name + ' Lowest cost : {}'.format(-Leader_cost))\n",
        "    print('\\n================================================================================\\n')\n",
        "\n",
        "    # stop timer\n",
        "    end_time = time.time()\n",
        "    exec_time = end_time - start_time\n",
        "    \n",
        "    # plot convergence curves\n",
        "    iters = np.arange(max_iter)+1\n",
        "    fig, axes = plt.subplots()\n",
        "    fig.tight_layout(pad = 5) \n",
        "    # fig.suptitle('Convergence Curves')\n",
        "    \n",
        "    axes.set_title('Total Distance vs Iterations')\n",
        "    axes.set_xlabel('Iteration')\n",
        "    axes.set_ylabel('Total Distance')\n",
        "    axes.plot(iters, -convergence_curve['fitness'])\n",
        "\n",
        "    if(save_conv_graph):\n",
        "        plt.savefig('convergence_graph_'+ short_name + '.jpg')\n",
        "    plt.show()\n",
        "\n",
        "    # update attributes of solution\n",
        "    solution.best_agent = Leader_agent\n",
        "    solution.best_fitness = Leader_fitness\n",
        "    solution.best_cost = Leader_cost\n",
        "    solution.convergence_curve = convergence_curve\n",
        "    solution.final_population = deer\n",
        "    solution.final_fitness = fitness\n",
        "    solution.final_cost = cost\n",
        "    solution.execution_time = exec_time\n",
        "    return solution"
      ],
      "execution_count": 47,
      "outputs": []
    },
    {
      "cell_type": "code",
      "metadata": {
        "id": "UtFtb7Pp_Duo"
      },
      "source": [
        "N_vertices = 4\n",
        "graph = np.array([[0, 10, 15, 20],\n",
        "                  [10, 0, 35, 25],\n",
        "                  [15, 35, 0, 30],\n",
        "                  [20, 25, 30, 0]])\n",
        "# lowest cost for this example is 80 => 1-2-4-3-1"
      ],
      "execution_count": 48,
      "outputs": []
    },
    {
      "cell_type": "code",
      "metadata": {
        "colab": {
          "base_uri": "https://localhost:8080/",
          "height": 478,
          "referenced_widgets": [
            "d7e5d542ec644b39b59713873cf6a11b",
            "63ae7a1af84140fbb49905f4a2cb1e4f",
            "313a8d48aba6439f81c01299d88fc718",
            "78911da9d5cd416d89da4678cdcfb225",
            "8b0ab600544e46928b91969de610eb09",
            "095df0085831474293673dab20a15889",
            "5dd235cb80e640fb901ba5a6b7aa75f2",
            "b1de83449f984a419814fd1e178224ad"
          ]
        },
        "id": "w3hARECvDTYR",
        "outputId": "75e0735e-3e40-4b96-d9ca-5e67b057c4b3"
      },
      "source": [
        "solution = RDA(num_agents=8, max_iter=3, graph=graph, N_vertices=N_vertices, obj_function=cycle_cost, save_conv_graph=True, alpha=0.2, beta=0.1, gamma=0.5, num_males_frac = 0.25, UB=5, LB=-5)\n",
        "solution.best_fitness\n"
      ],
      "execution_count": 49,
      "outputs": [
        {
          "output_type": "display_data",
          "data": {
            "application/vnd.jupyter.widget-view+json": {
              "model_id": "d7e5d542ec644b39b59713873cf6a11b",
              "version_minor": 0,
              "version_major": 2
            },
            "text/plain": [
              "HBox(children=(FloatProgress(value=0.0, max=3.0), HTML(value='')))"
            ]
          },
          "metadata": {
            "tags": []
          }
        },
        {
          "output_type": "stream",
          "text": [
            "\n",
            "\n",
            "================================================================================\n",
            "                                    Final Result                                  \n",
            "================================================================================\n",
            "\n",
            "Leader RedDeer Fitness : -80.0\n",
            "Leader RedDeer Lowest cost : 80\n",
            "\n",
            "================================================================================\n",
            "\n"
          ],
          "name": "stdout"
        },
        {
          "output_type": "display_data",
          "data": {
            "image/png": "[encoded data removed]",
            "text/plain": [
              "<Figure size 432x288 with 1 Axes>"
            ]
          },
          "metadata": {
            "tags": [],
            "needs_background": "light"
          }
        },
        {
          "output_type": "execute_result",
          "data": {
            "text/plain": [
              "-80.0"
            ]
          },
          "metadata": {
            "tags": []
          },
          "execution_count": 49
        }
      ]
    },
    {
      "cell_type": "code",
      "metadata": {
        "colab": {
          "base_uri": "https://localhost:8080/"
        },
        "id": "Vb-xMXHBoVgH",
        "outputId": "2a5615ec-0d87-4a1f-a893-c28736e0f98d"
      },
      "source": [
        "# Big example\n",
        "np.random.seed(44)\n",
        "\n",
        "N_vertices_sample_1 = 120\n",
        "graph_sample_1 = np.zeros((120,120)) \n",
        "\n",
        "for i in range(N_vertices_sample_1):\n",
        "  for j in range(N_vertices_sample_1):\n",
        "    if(i<=j):\n",
        "      break\n",
        "    graph_sample_1[i][j] = np.random.randint(1000)\n",
        "    graph_sample_1[j][i] = graph_sample_1[i][j]\n",
        "    \n",
        "graph_sample_1.sum()"
      ],
      "execution_count": 7,
      "outputs": [
        {
          "output_type": "execute_result",
          "data": {
            "text/plain": [
              "7137522.0"
            ]
          },
          "metadata": {
            "tags": []
          },
          "execution_count": 7
        }
      ]
    },
    {
      "cell_type": "code",
      "metadata": {
        "colab": {
          "base_uri": "https://localhost:8080/",
          "height": 462,
          "referenced_widgets": [
            "ac51a0954d49435a94e5cf3ed536f42b",
            "f6cde4c5894d4bca816678b461b31bf9",
            "32017e1fe79041e68a8c4baf3d68d285",
            "db68d5a9d566406abe03d1f56a1d6ced",
            "4895335104374602b85fd63e85e293c8",
            "9218ef5ec5dd4f1b939d21e10ab55de8",
            "73165f1e2263486f89125208f760aab4",
            "275ff0fff0cc4977ab5c090026a7fb6d"
          ]
        },
        "id": "_cE7WxU91A-a",
        "outputId": "f4e1ff9a-3bee-49ce-e43a-6b3b811f6c33"
      },
      "source": [
        "solution = RDA(num_agents=1000, max_iter=20, graph=graph_sample_1, N_vertices=N_vertices_sample_1, obj_function=cycle_cost, save_conv_graph=True, alpha=0.9, beta=0.4, gamma=0.5, num_males_frac=0.15, UB=5, LB=-5)"
      ],
      "execution_count": 57,
      "outputs": [
        {
          "output_type": "display_data",
          "data": {
            "application/vnd.jupyter.widget-view+json": {
              "model_id": "ac51a0954d49435a94e5cf3ed536f42b",
              "version_minor": 0,
              "version_major": 2
            },
            "text/plain": [
              "HBox(children=(FloatProgress(value=0.0, max=20.0), HTML(value='')))"
            ]
          },
          "metadata": {
            "tags": []
          }
        },
        {
          "output_type": "stream",
          "text": [
            "\n",
            "\n",
            "================================================================================\n",
            "                                    Final Result                                  \n",
            "================================================================================\n",
            "\n",
            "Leader RedDeer Fitness : -47542.0\n",
            "Leader RedDeer Lowest cost : 47542.0\n",
            "\n",
            "================================================================================\n",
            "\n"
          ],
          "name": "stdout"
        },
        {
          "output_type": "display_data",
          "data": {
            "image/png": "[encoded data removed]",
            "text/plain": [
              "<Figure size 432x288 with 1 Axes>"
            ]
          },
          "metadata": {
            "tags": [],
            "needs_background": "light"
          }
        }
      ]
    },
    {
      "cell_type": "code",
      "metadata": {
        "colab": {
          "base_uri": "https://localhost:8080/",
          "height": 462,
          "referenced_widgets": [
            "1ca35e281eec472082c0825febd29dbf",
            "25e81a287e4b4573b2ca5729525fcd5a",
            "136d27b2a61148f7808af169c552857d",
            "3d9eaff699d442b5a9004518dad4d40e",
            "d02f1349e6a44554bf8d2426135fdc28",
            "182b2629cbec44dd8569eb378be35ce2",
            "cf8f6102f662488bbae9f345bf9c18d9",
            "132af1442d3a4157893286a3a7590c50"
          ]
        },
        "id": "dzHBs9pBA_q0",
        "outputId": "b709d19d-ea5b-432a-9475-fc7c263ff7e3"
      },
      "source": [
        "solution = RDA(num_agents=1000, max_iter=20, graph=graph_sample_1, N_vertices=N_vertices_sample_1, obj_function=cycle_cost, save_conv_graph=True, alpha=0.9, beta=0.4, gamma=0.7, num_males_frac=0.25, UB=5, LB=-5)"
      ],
      "execution_count": 190,
      "outputs": [
        {
          "output_type": "display_data",
          "data": {
            "application/vnd.jupyter.widget-view+json": {
              "model_id": "1ca35e281eec472082c0825febd29dbf",
              "version_minor": 0,
              "version_major": 2
            },
            "text/plain": [
              "HBox(children=(FloatProgress(value=0.0, max=20.0), HTML(value='')))"
            ]
          },
          "metadata": {
            "tags": []
          }
        },
        {
          "output_type": "stream",
          "text": [
            "\n",
            "\n",
            "================================================================================\n",
            "                                    Final Result                                  \n",
            "================================================================================\n",
            "\n",
            "Leader RedDeer Fitness : -47614.0\n",
            "Leader RedDeer Lowest cost : 47614.0\n",
            "\n",
            "================================================================================\n",
            "\n"
          ],
          "name": "stdout"
        },
        {
          "output_type": "display_data",
          "data": {
            "image/png": "[encoded data removed]",
            "text/plain": [
              "<Figure size 432x288 with 1 Axes>"
            ]
          },
          "metadata": {
            "tags": [],
            "needs_background": "light"
          }
        }
      ]
    },
    {
      "cell_type": "code",
      "metadata": {
        "colab": {
          "base_uri": "https://localhost:8080/",
          "height": 478,
          "referenced_widgets": [
            "56640237b7c042c4b77bb77c47933473",
            "e0874f6a7cb44413b7a83c2d0675ab74",
            "6f43a5f3fa12431283650f9f8f193e16",
            "a180bb3d8f0c4ba9846a5ae29b68194f",
            "a370442fd9664cda958db21440ef3307",
            "af2966bea84c4af1b127233ed053b9bb",
            "6722c799252d46fcb9448b96e397638a",
            "a89ef8ad1cf448f89aa7dfbc25f14e4c"
          ]
        },
        "id": "6N6rFKU6Bp5_",
        "outputId": "195930d2-9083-440a-eaa6-71c149b1c6f2"
      },
      "source": [
        "RDA(num_agents=200, max_iter=20, graph=graph_sample_1, N_vertices=N_vertices_sample_1, obj_function=cycle_cost, save_conv_graph=True, alpha=0.1, beta=0.7, gamma=0.2, num_males_frac=0.15, UB=5, LB=-5)"
      ],
      "execution_count": 54,
      "outputs": [
        {
          "output_type": "display_data",
          "data": {
            "application/vnd.jupyter.widget-view+json": {
              "model_id": "56640237b7c042c4b77bb77c47933473",
              "version_minor": 0,
              "version_major": 2
            },
            "text/plain": [
              "HBox(children=(FloatProgress(value=0.0, max=20.0), HTML(value='')))"
            ]
          },
          "metadata": {
            "tags": []
          }
        },
        {
          "output_type": "stream",
          "text": [
            "\n",
            "\n",
            "================================================================================\n",
            "                                    Final Result                                  \n",
            "================================================================================\n",
            "\n",
            "Leader RedDeer Fitness : -51107.0\n",
            "Leader RedDeer Lowest cost : 51107.0\n",
            "\n",
            "================================================================================\n",
            "\n"
          ],
          "name": "stdout"
        },
        {
          "output_type": "display_data",
          "data": {
            "image/png": "[encoded data removed]",
            "text/plain": [
              "<Figure size 432x288 with 1 Axes>"
            ]
          },
          "metadata": {
            "tags": [],
            "needs_background": "light"
          }
        },
        {
          "output_type": "execute_result",
          "data": {
            "text/plain": [
              "<__main__.Solution at 0x7ff68b727ad0>"
            ]
          },
          "metadata": {
            "tags": []
          },
          "execution_count": 54
        }
      ]
    },
    {
      "cell_type": "code",
      "metadata": {
        "id": "BKxn4ibtCTY_"
      },
      "source": [
        "alphas = np.arange(0.1,1,0.1)\n",
        "betas = np.arange(0.1,1,0.1)\n",
        "gammas = np.arange(0.1,1,0.1)\n"
      ],
      "execution_count": 52,
      "outputs": []
    },
    {
      "cell_type": "code",
      "metadata": {
        "id": "jO-ECeSouxDJ"
      },
      "source": [
        "for alpha in alphas:\n",
        "  for beta in betas:\n",
        "    for gamma in gammas:\n",
        "      print(\"For :\",alpha,beta,gamma)\n",
        "      RDA(num_agents=200, max_iter=20, graph=graph_sample_1, N_vertices=N_vertices_sample_1, obj_function=cycle_cost, save_conv_graph=True, alpha=alpha, beta=beta, gamma=gamma, num_males_frac=0.15, UB=5, LB=-5)"
      ],
      "execution_count": null,
      "outputs": []
    },
    {
      "cell_type": "code",
      "metadata": {
        "id": "iggoz2Cxu9PM"
      },
      "source": [
        "#0.1 0.7000000000000001 0.2\n"
      ],
      "execution_count": 21,
      "outputs": []
    },
    {
      "cell_type": "code",
      "metadata": {
        "id": "8MgL-Ruu08k8"
      },
      "source": [
        ""
      ],
      "execution_count": null,
      "outputs": []
    }
  ]
}